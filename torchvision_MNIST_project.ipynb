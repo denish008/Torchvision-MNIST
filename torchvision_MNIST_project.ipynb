{
 "cells": [
  {
   "cell_type": "markdown",
   "id": "2ed5a16d",
   "metadata": {},
   "source": [
    "### Creating a Customized Machine Learning Model implementing Stochastic Gradient Descent using MNIST Database ###\n",
    "\n",
    "---\n",
    "\n",
    "#### **Name :** Denish Trivedi \n",
    "#### **Email Id :** denishtrivedi008@gmail.com / denishtrivedi@iitgn.ac.in ###\n",
    "\n",
    "---"
   ]
  },
  {
   "cell_type": "markdown",
   "id": "15d3a78f",
   "metadata": {},
   "source": [
    "#### **Preparing the Data**"
   ]
  },
  {
   "cell_type": "code",
   "execution_count": 2,
   "id": "0d292722",
   "metadata": {},
   "outputs": [],
   "source": [
    "import numpy as np\n",
    "import torch\n",
    "import torchvision\n",
    "from torchvision.datasets import MNIST"
   ]
  },
  {
   "cell_type": "code",
   "execution_count": 19,
   "id": "a2928e28",
   "metadata": {},
   "outputs": [
    {
     "name": "stdout",
     "output_type": "stream",
     "text": [
      "<class 'torchvision.datasets.mnist.MNIST'>\n"
     ]
    }
   ],
   "source": [
    "# MNIST dataset (images and labels)\n",
    "import torchvision.transforms as transforms\n",
    "dataset = MNIST(root='data/', train=True, transform=transforms.ToTensor())"
   ]
  },
  {
   "cell_type": "code",
   "execution_count": 25,
   "id": "1201f210",
   "metadata": {},
   "outputs": [],
   "source": [
    "from torch.utils.data import random_split\n",
    "train_ds, val_ds = random_split(dataset, [50000, 10000])"
   ]
  },
  {
   "cell_type": "code",
   "execution_count": 55,
   "id": "0f8b2625",
   "metadata": {},
   "outputs": [],
   "source": [
    "from torch.utils.data import DataLoader\n",
    "import matplotlib.pyplot as plt\n",
    "batch_size = 128\n",
    "\n",
    "train_loader = DataLoader(train_ds, batch_size, shuffle=True)\n",
    "val_loader = DataLoader(val_ds, batch_size)"
   ]
  },
  {
   "cell_type": "markdown",
   "id": "21fa2198",
   "metadata": {},
   "source": [
    "#### **Machile learning Model** "
   ]
  },
  {
   "cell_type": "code",
   "execution_count": 24,
   "id": "19eefb58",
   "metadata": {},
   "outputs": [],
   "source": [
    "import torch.nn as nn\n",
    "import torch.nn.functional as F\n",
    "\n",
    "input_size = 28*28\n",
    "num_classes = 10\n",
    "\n",
    "class MnistModel(nn.Module):\n",
    "    def __init__(self):\n",
    "        super().__init__()\n",
    "        self.linear = nn.Linear(input_size, num_classes)\n",
    "        \n",
    "    def forward(self, xb):\n",
    "        xb = xb.reshape(-1, 784)\n",
    "        out = self.linear(xb)\n",
    "        return out\n",
    "    \n",
    "    def training_step(self, batch):\n",
    "        images, labels = batch \n",
    "        out = self(images)                  # Generate predictions\n",
    "        loss = F.cross_entropy(out, labels) # Calculate loss\n",
    "        return loss\n",
    "    \n",
    "    def validation_step(self, batch):\n",
    "        images, labels = batch \n",
    "        out = self(images)                    # Generate predictions\n",
    "        loss = F.cross_entropy(out, labels)   # Calculate loss\n",
    "        acc = accuracy(out, labels)           # Calculate accuracy\n",
    "        return {'val_loss': loss, 'val_acc': acc}\n",
    "        \n",
    "    def validation_epoch_end(self, outputs):\n",
    "        batch_losses = [x['val_loss'] for x in outputs]\n",
    "        epoch_loss = torch.stack(batch_losses).mean()   # Combine losses\n",
    "        batch_accs = [x['val_acc'] for x in outputs]\n",
    "        epoch_acc = torch.stack(batch_accs).mean()      # Combine accuracies\n",
    "        return {'val_loss': epoch_loss.item(), 'val_acc': epoch_acc.item()}\n",
    "    \n",
    "    def epoch_end(self, epoch, result):\n",
    "        print(\"Epoch [{}], val_loss: {:.4f}, val_acc: {:.4f}\".format(epoch, result['val_loss'], result['val_acc']))\n",
    "    \n",
    "model = MnistModel()"
   ]
  },
  {
   "cell_type": "markdown",
   "id": "a4ec6648",
   "metadata": {},
   "source": [
    "#### **Training the Model** "
   ]
  },
  {
   "cell_type": "code",
   "execution_count": 31,
   "id": "c8b52ca7",
   "metadata": {},
   "outputs": [],
   "source": [
    "def evaluate(model, val_loader):\n",
    "    outputs = [model.validation_step(batch) for batch in val_loader]\n",
    "    return model.validation_epoch_end(outputs)\n",
    "\n",
    "def accuracy(outputs, labels):\n",
    "    _, preds = torch.max(outputs, dim=1)\n",
    "    return torch.tensor(torch.sum(preds == labels).item() / len(preds))\n",
    "\n",
    "def fit(epochs, lr, model, train_loader, val_loader, opt_func=torch.optim.SGD):\n",
    "    optimizer = opt_func(model.parameters(), lr)\n",
    "    history = [] # for recording epoch-wise results\n",
    "    \n",
    "    for epoch in range(epochs):\n",
    "        # Training Phase \n",
    "        for batch in train_loader:\n",
    "            loss = model.training_step(batch)\n",
    "            loss.backward()\n",
    "            optimizer.step()\n",
    "            optimizer.zero_grad()\n",
    "        \n",
    "        # Validation phase\n",
    "        result = evaluate(model, val_loader)\n",
    "        # model.epoch_end(epoch, result)\n",
    "        history.append(result)\n",
    "\n",
    "    return history"
   ]
  },
  {
   "cell_type": "code",
   "execution_count": 48,
   "id": "f6f7d010",
   "metadata": {},
   "outputs": [],
   "source": [
    "result0 = evaluate(model, val_loader)\n",
    "history1 = fit(5, 0.001, model, train_loader, val_loader)\n",
    "history2 = fit(5, 0.001, model, train_loader, val_loader)\n",
    "history3 = fit(5, 0.001, model, train_loader, val_loader)\n",
    "history4 = fit(5, 0.001, model, train_loader, val_loader)\n",
    "\n",
    "history = [result0] + history1 + history2 + history3 + history4\n",
    "accuracies = [result['val_acc'] for result in history]"
   ]
  },
  {
   "cell_type": "markdown",
   "id": "df893d59",
   "metadata": {},
   "source": [
    "#### **Plot of Accuracy**"
   ]
  },
  {
   "cell_type": "code",
   "execution_count": 66,
   "id": "c8612e7d",
   "metadata": {},
   "outputs": [
    {
     "data": {
      "image/png": "[encoded data removed]",
      "text/plain": [
       "<Figure size 576x432 with 1 Axes>"
      ]
     },
     "metadata": {
      "needs_background": "light"
     },
     "output_type": "display_data"
    }
   ],
   "source": [
    "plt.figure(figsize=[8, 6])\n",
    "plt.grid()\n",
    "plt.plot(accuracies)\n",
    "plt.scatter(np.arange(len(accuracies)), accuracies)\n",
    "plt.xlabel('epoch', fontweight='bold')\n",
    "plt.ylabel('Accuracy', fontweight='bold')\n",
    "plt.title('Accuracy vs. No. of epochs', fontweight='bold');\n",
    "plt.savefig('Accuracy')"
   ]
  },
  {
   "cell_type": "markdown",
   "id": "678a272f",
   "metadata": {},
   "source": [
    "As we can see from the figure as we increase the number of epochs the accuracy of our custom SGD model keeps increasong. Obviously there will be a saturation level as accuracy cannot exceed 100%."
   ]
  },
  {
   "cell_type": "markdown",
   "id": "156d8574",
   "metadata": {},
   "source": [
    "#### **Testing on Sample Images** \n",
    "---\n",
    "We can now test our model on actual samples from the MNIST database, for that we again have to create a testing dataset and transform it to a tensor using Pytorch to make predictions on it."
   ]
  },
  {
   "cell_type": "code",
   "execution_count": 53,
   "id": "47ad6642",
   "metadata": {},
   "outputs": [],
   "source": [
    "def predict_image(img, model):\n",
    "    xb = img.unsqueeze(0)\n",
    "    yb = model(xb)\n",
    "    _, preds = torch.max(yb, dim=1)\n",
    "    return preds[0].item()\n",
    "\n",
    "# Define test dataset\n",
    "test_dataset = MNIST(root='data/', train=False, transform=transforms.ToTensor())"
   ]
  },
  {
   "cell_type": "markdown",
   "id": "fe1a8537",
   "metadata": {},
   "source": [
    "#### **Predictions**\n",
    "---\n",
    "We will test our model on 9 images from the MNIST database. "
   ]
  },
  {
   "cell_type": "code",
   "execution_count": 65,
   "id": "b40d3392",
   "metadata": {},
   "outputs": [
    {
     "data": {
      "image/png": "[encoded data removed]",
      "text/plain": [
       "<Figure size 1296x864 with 9 Axes>"
      ]
     },
     "metadata": {
      "needs_background": "light"
     },
     "output_type": "display_data"
    }
   ],
   "source": [
    "fig, ax = plt.subplots(3, 3, figsize=[18, 12])\n",
    "\n",
    "a, b = 0, 0\n",
    "for i in range(9):\n",
    "    if b % 3 == 0 and i > 0:\n",
    "        a += 1\n",
    "        b = 0\n",
    "    img, label = test_dataset[i]\n",
    "    ax[a, b].imshow(img[0], cmap='gray')\n",
    "    ax[a, b].set_title(f'Label: {label}  |  Predicted: {predict_image(img, model)}', fontweight='bold')\n",
    "    b += 1\n",
    "fig.savefig('myfig')"
   ]
  },
  {
   "cell_type": "code",
   "execution_count": null,
   "id": "19d190fb",
   "metadata": {},
   "outputs": [],
   "source": []
  }
 ],
 "metadata": {
  "celltoolbar": "Raw Cell Format",
  "kernelspec": {
   "display_name": "Python 3 (ipykernel)",
   "language": "python",
   "name": "python3"
  },
  "language_info": {
   "codemirror_mode": {
    "name": "ipython",
    "version": 3
   },
   "file_extension": ".py",
   "mimetype": "text/x-python",
   "name": "python",
   "nbconvert_exporter": "python",
   "pygments_lexer": "ipython3",
   "version": "3.9.12"
  }
 },
 "nbformat": 4,
 "nbformat_minor": 5
}
